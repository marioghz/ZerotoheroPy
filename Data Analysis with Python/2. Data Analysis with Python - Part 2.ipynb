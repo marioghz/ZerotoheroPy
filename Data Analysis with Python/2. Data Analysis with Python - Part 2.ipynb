{
 "cells": [
  {
   "cell_type": "markdown",
   "id": "26d745f0",
   "metadata": {},
   "source": [
    "# From Zero to Hero - Data Analysis with Python - Part 2"
   ]
  },
  {
   "cell_type": "markdown",
   "id": "4154285d",
   "metadata": {},
   "source": [
    "The intention of this document is to review the basic and most used sintax in a data manipulation and analysis environment in Python, the proposal pretends to contemplate from the most basic of what to the most complex concepts, this publication also seeks to encourage participation by any developer to add value to this knowledge base.\n",
    "\n",
    "In this section, it is proposed to review basic concepts about Python syntax for data processing.\n",
    "\n",
    "### Content:\n",
    "* [Conditions](#conditions)\n",
    "* [Loops](#loops)\n",
    "* [Error handlers](#error_handlers)\n",
    "* [Funtions](#functions)\n",
    "* [Modules](#modules)\n",
    "\n"
   ]
  },
  {
   "cell_type": "markdown",
   "id": "96f82627",
   "metadata": {},
   "source": [
    "<a id=\"conditions\"></a>\n",
    "### Conditions (if, elif, else)\n",
    "\n",
    "In Python you have the if, elif and the else statements, the if statement is how you perform this sort of decision-making. It allows for conditional execution of a statement or group of statements based on the value of an expression."
   ]
  },
  {
   "cell_type": "code",
   "execution_count": 35,
   "id": "59a34b91",
   "metadata": {},
   "outputs": [
    {
     "name": "stdout",
     "output_type": "stream",
     "text": [
      "HOURS COUNT WORKED LOW!! Check the hours rate for the data engineer position this week.\n"
     ]
    }
   ],
   "source": [
    "job_role = \"DataEngineer\"\n",
    "avg_hours_week = 40\n",
    "hours_week = 35\n",
    "\n",
    "if(job_role == \"DataScience\" or job_role == \"datascience\"):\n",
    "    if(hours_week < avg_hours_week):\n",
    "        print(\"HOURS COUNT WORKED LOW!! Check the hours rate for the data science position this week.\")\n",
    "    elif(hours_week > avg_hours_week):\n",
    "            print(\"HOURS COUNT WORKED HIGH!! Check the hours rate for the data science position this week.\")  \n",
    "    else:\n",
    "        print(\"Correct hours worked for the data science role. Hours pending or overtaken: \",avg_hours_week - hours_week)             \n",
    "elif(job_role == \"DataEngineer\" or job_role == \"dataengineer\"):\n",
    "    if(hours_week < avg_hours_week):\n",
    "        print(\"HOURS COUNT WORKED LOW!! Check the hours rate for the data engineer position this week.\")\n",
    "    elif(hours_week > avg_hours_week):\n",
    "            print(\"HOURS COUNT WORKED HIGH!! Check the hours rate for the data engineer position this week.\")  \n",
    "    else:\n",
    "        print(\"Correct hours worked for the data engineer role. Hours pending or overtaken: \",avg_hours_week - hours_week)\n",
    "else: print(\"Job role not recognised. Please enter a valid role for either DataEngineer or DataScience.\")"
   ]
  },
  {
   "cell_type": "markdown",
   "id": "21ff8f8c",
   "metadata": {},
   "source": [
    "<a id=\"loops\"></a>\n",
    "### Loops (for, while)\n",
    "\n",
    "The \"for\" control structure will allow us to execute a code block for all the elements contained in a sequence (which may be involved in the code block).\n",
    "\n",
    "The \"while\" control structure will allow us to carry out the execution of a block of code as long as a given condition is met."
   ]
  },
  {
   "cell_type": "code",
   "execution_count": 36,
   "id": "19483056",
   "metadata": {},
   "outputs": [
    {
     "name": "stdout",
     "output_type": "stream",
     "text": [
      "0\n",
      "1\n",
      "2\n",
      "3\n",
      "4\n"
     ]
    }
   ],
   "source": [
    "## while structure\n",
    "i = 0\n",
    "while i < 5:\n",
    "    print (i)\n",
    "    i += 1"
   ]
  },
  {
   "cell_type": "code",
   "execution_count": 37,
   "id": "0b4f9d66",
   "metadata": {},
   "outputs": [
    {
     "name": "stdout",
     "output_type": "stream",
     "text": [
      "USA\n",
      "Canada\n",
      "Japan\n",
      "Germany\n"
     ]
    }
   ],
   "source": [
    "## for structure (plerase note the \"continue\" sentence)\n",
    "country_list = [\"USA\", \"Canada\", \"UK\", \"Japan\", \"Germany\"]\n",
    "for i in country_list:\n",
    "    if i == \"UK\":\n",
    "        continue # Cuts the execution on the current iteration and passes control to the next iteration' loop.\n",
    "    print (i)"
   ]
  },
  {
   "cell_type": "code",
   "execution_count": 38,
   "id": "77dc17f4",
   "metadata": {},
   "outputs": [
    {
     "name": "stdout",
     "output_type": "stream",
     "text": [
      "USA\n",
      "Canada\n"
     ]
    }
   ],
   "source": [
    "## for structure (plerase note the \"break\" sentence)\n",
    "country_list = [\"USA\", \"Canada\", \"UK\", \"Japan\", \"Germany\"]\n",
    "for i in country_list:\n",
    "    if i == \"UK\":\n",
    "        break # Completely cuts the flow of loop execution and passes control to the post-loop statement.\n",
    "    print (i)"
   ]
  },
  {
   "cell_type": "markdown",
   "id": "a3906693",
   "metadata": {},
   "source": [
    "<a id=\"error_handlers\"></a>\n",
    "### Error handlers\n",
    "\n",
    "In Python are generated in the form of exceptions (objects that include both the detail of the error and the call stack that generated the error). It is important to carry out good exception management so that errors are always controlled so that the programs created are robust (do not stop running prematurely due to uncontrolled errors) and clear (present \"understandable\" information to potential users and not internal python errors)."
   ]
  },
  {
   "cell_type": "code",
   "execution_count": 39,
   "id": "9d541b93",
   "metadata": {},
   "outputs": [
    {
     "name": "stdout",
     "output_type": "stream",
     "text": [
      "could not convert string to float: '999.4hello'\n",
      "There was an error\n"
     ]
    }
   ],
   "source": [
    "try:\n",
    "    var_stg = \"999.4hello\"\n",
    "    var_int = float(var_stg)\n",
    "except Exception as e:\n",
    "    print (e)\n",
    "    print (\"There was an error\")"
   ]
  },
  {
   "cell_type": "markdown",
   "id": "e82e85d9",
   "metadata": {},
   "source": [
    "<a id=\"functions\"></a>\n",
    "### Functions\n",
    "\n",
    "<ul>\n",
    "<li>It can be understood as a name assigned to a block of code that allows its subsequent invocation.</li>\n",
    "<li>It has a set of input parameters (optional) on which the internal code block will work.</li>\n",
    "<li>They offer an output result (optional) that can be used by the code that invoked the function.</li>\n",
    "<li>They allow you to encapsulate code so that it can be reused at various points in a program.</li>\n",
    "<li>They avoid the need to copy and paste code.</li>\n",
    "<li>Facilitates maintenance and reduces potential points of failure.</li>\n",
    "<li>They allow to \"generalize\" code when working on input parameters that can be \"variables\".</li>\n",
    "</ul>"
   ]
  },
  {
   "cell_type": "code",
   "execution_count": 40,
   "id": "e5a3e5fc",
   "metadata": {},
   "outputs": [
    {
     "name": "stdout",
     "output_type": "stream",
     "text": [
      "['ONE']\n",
      "['four', 'five']\n",
      "['TWO', 'THREE']\n"
     ]
    }
   ],
   "source": [
    "def my_funct(v_list, v_ini, a_upper):\n",
    "    list_out = []\n",
    "    for e in v_list:\n",
    "        if e[0] == v_ini:\n",
    "            if a_upper:\n",
    "                list_out.append(e.upper())\n",
    "            else:\n",
    "                list_out.append(e.lower())\n",
    "    return list_out\n",
    "\n",
    "v_list_values = [\"one\", \"two\", \"three\", \"four\", \"five\", \"six\"]\n",
    "print (my_funct(v_list_values, \"o\", True))\n",
    "print (my_funct(v_list_values, \"f\", False))\n",
    "print (my_funct(v_list_values, \"t\", True))"
   ]
  },
  {
   "cell_type": "markdown",
   "id": "552893ab",
   "metadata": {},
   "source": [
    "<a id=\"modules\"></a>\n",
    "### Modules\n",
    "\n",
    "<ul>\n",
    "<li>By default, in a Python script, you have access to all the variables and functions defined in the file itself.</li>\n",
    "<li>It is possible to access elements defined in other files by importing modules.</li>\n",
    "<li>A .py file is a Python module whose name is the same as the file (without an extension).</li>\n",
    "<li>The way to incorporate elements defined in a module is by using the import statement.</li>\n",
    "</ul>"
   ]
  },
  {
   "cell_type": "code",
   "execution_count": 41,
   "id": "3e3b52d0",
   "metadata": {},
   "outputs": [
    {
     "name": "stdout",
     "output_type": "stream",
     "text": [
      "[[1 2]\n",
      " [3 4]]\n",
      "2.5\n"
     ]
    }
   ],
   "source": [
    "import numpy\n",
    "array = numpy.array([[1, 2], [3, 4]])\n",
    "mean = numpy.mean(array)\n",
    "print (array)\n",
    "print (mean)"
   ]
  },
  {
   "cell_type": "code",
   "execution_count": 42,
   "id": "a224a73a",
   "metadata": {},
   "outputs": [
    {
     "name": "stdout",
     "output_type": "stream",
     "text": [
      "[[1 2]\n",
      " [3 4]]\n"
     ]
    }
   ],
   "source": [
    "from numpy import array as array_de_numpy\n",
    "array = array_de_numpy([[1, 2], [3, 4]])\n",
    "print (array)"
   ]
  }
 ],
 "metadata": {
  "kernelspec": {
   "display_name": "Python 3",
   "language": "python",
   "name": "python3"
  },
  "language_info": {
   "codemirror_mode": {
    "name": "ipython",
    "version": 3
   },
   "file_extension": ".py",
   "mimetype": "text/x-python",
   "name": "python",
   "nbconvert_exporter": "python",
   "pygments_lexer": "ipython3",
   "version": "3.8.8"
  }
 },
 "nbformat": 4,
 "nbformat_minor": 5
}
