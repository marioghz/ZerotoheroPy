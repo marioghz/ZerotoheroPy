{
 "cells": [
  {
   "cell_type": "markdown",
   "id": "26d745f0",
   "metadata": {},
   "source": [
    "# From Zero to Hero - Data Analysis with Python - Basics"
   ]
  },
  {
   "cell_type": "markdown",
   "id": "4154285d",
   "metadata": {},
   "source": [
    "The intention of this document is to review the basic and most used sintax in a data manipulation and analysis environment in Python, the proposal pretends to contemplate from the most basic of what to the most complex concepts, this publication also seeks to encourage participation by any developer to add value to this knowledge base.\n",
    "\n",
    "In this section, it is proposed to review basic concepts about Python syntax for data processing.\n",
    "\n",
    "### Content:\n",
    "* [Comments](#comments)\n",
    "* [Operators](#operators)\n",
    "* [Data Types & Data Structures](#data_types)\n",
    "    * [Lists](#lists)\n",
    "    * [Tuples](#tuples)\n",
    "    * [Sets](#sets)\n",
    "    * [Dictionaries](#dictionaries)\n"
   ]
  },
  {
   "cell_type": "markdown",
   "id": "1a0408e1",
   "metadata": {},
   "source": [
    "<a id=\"comments\"></a>\n",
    "### Comments\n",
    "\n",
    "<ul>\n",
    "<li> To enter a comment in Python code, it must be preceded by the character \"#\". </li>\n",
    "<li> Full lines (\"#\" character at the beginning of the line) or partial lines (\"#\" character behind a code snippet) can be commented. </li>\n",
    "<li> Once the \"#\" character is entered, the comment will reach the end of the line. </li>\n",
    "<li> You can also enter a multi-line comment by putting three quotation marks, \"\" \", at the beginning and end of the comment.</li>\n",
    "    \n",
    "</ul>"
   ]
  },
  {
   "cell_type": "code",
   "execution_count": 55,
   "id": "a26bf5a4",
   "metadata": {},
   "outputs": [
    {
     "data": {
      "text/plain": [
       "'\\nPython is an interpreted high-level general-purpose programming language. \\nIts design philosophy emphasizes code readability with its use of significant indentation. \\nIts language constructs as well as its object-oriented approach aim to help programmers write clear, \\nlogical code for small and large-scale projects\\n'"
      ]
     },
     "execution_count": 55,
     "metadata": {},
     "output_type": "execute_result"
    }
   ],
   "source": [
    "# This is a comment that will not be evaluated\n",
    "x = 15 # This is another comment that will not be evaluated either\n",
    "\n",
    "\"\"\"\n",
    "Python is an interpreted high-level general-purpose programming language. \n",
    "Its design philosophy emphasizes code readability with its use of significant indentation. \n",
    "Its language constructs as well as its object-oriented approach aim to help programmers write clear, \n",
    "logical code for small and large-scale projects\n",
    "\"\"\""
   ]
  },
  {
   "cell_type": "markdown",
   "id": "85102cfd",
   "metadata": {},
   "source": [
    "<a id=\"operators\"></a> \n",
    "### Operators\n",
    "\n",
    "As in other programming languages we have a diverse set of operators to apply to variables and values:\n",
    "<li> Arithmetic: +, -, \\ *, /, \\ * \\ *,%, //</li>\n",
    "<li> Logical: and, or, no</li>\n",
    "<li> Comparatives: == ,! =, <>,>, <,> =, <=</li>\n",
    "<li> Assignment: =, + =, - =. \\ * =, / =, \\ * \\ * =,% =, // =</li>\n"
   ]
  },
  {
   "cell_type": "code",
   "execution_count": 56,
   "id": "b866b830",
   "metadata": {
    "scrolled": true
   },
   "outputs": [
    {
     "name": "stdout",
     "output_type": "stream",
     "text": [
      "10 8 8 1.25 0\n"
     ]
    }
   ],
   "source": [
    "## Arithmetic\n",
    "val_a = 2 * 5           # Multiplication = 10\n",
    "val_b = 2**3            # Exponentiation = 8\n",
    "val_c = val_a / val_b   # Division = 8\n",
    "val_d = val_a % val_a   # Modulus = 1.25\n",
    "val_e = val_a//val_a    # Floor division = 0\n",
    "print(val_a, val_b, val_b, val_c, val_d)"
   ]
  },
  {
   "cell_type": "code",
   "execution_count": 57,
   "id": "2b5c0429",
   "metadata": {},
   "outputs": [
    {
     "data": {
      "text/plain": [
       "False"
      ]
     },
     "execution_count": 57,
     "metadata": {},
     "output_type": "execute_result"
    }
   ],
   "source": [
    "## Logical\n",
    "val_a = 10\n",
    "val_a > 5 and val_a < 1"
   ]
  },
  {
   "cell_type": "code",
   "execution_count": 58,
   "id": "30145492",
   "metadata": {},
   "outputs": [
    {
     "name": "stdout",
     "output_type": "stream",
     "text": [
      "False\n",
      "True\n",
      "True\n"
     ]
    }
   ],
   "source": [
    "## Comparatives\n",
    "val_b = 4\n",
    "print (val_a == val_b)  # false\n",
    "print (val_a != val_b)  # true\n",
    "print (val_a > val_b)   # true"
   ]
  },
  {
   "cell_type": "code",
   "execution_count": 59,
   "id": "22ab65ee",
   "metadata": {},
   "outputs": [
    {
     "name": "stdout",
     "output_type": "stream",
     "text": [
      "18 4 4 1.5625\n"
     ]
    }
   ],
   "source": [
    "## Assignment\n",
    "val_a += 8\n",
    "val_b %= 5\n",
    "val_c **= 2\n",
    "print(val_a, val_b, val_b, val_c)"
   ]
  },
  {
   "cell_type": "markdown",
   "id": "917d07d2",
   "metadata": {},
   "source": [
    "<a id=\"data_types\"></a>\n",
    "### Data Types & Data Structures\n",
    "\n",
    "In Python, we have many data types. The most common ones are float (floating point), int (integer), str (string), bool (Boolean), list, tuples, Sets, and dict (dictionary)."
   ]
  },
  {
   "cell_type": "code",
   "execution_count": 60,
   "id": "d3144165",
   "metadata": {},
   "outputs": [
    {
     "name": "stdout",
     "output_type": "stream",
     "text": [
      "<class 'int'> <class 'str'> <class 'str'> <class 'bool'> <class 'NoneType'>\n"
     ]
    }
   ],
   "source": [
    "val_integer = 50 - 50      #by default you can define a variable as integer type\n",
    "val_string = \"Hello world\" #by default you can define a variable as String type\n",
    "val_float = \"999.99\"       #by default you can define a variable as Float type\n",
    "val_boolean = True         #by default you can define a variable as Float type\n",
    "val_null = None            #null values can by defined by None\n",
    "\n",
    "print(type(val_integer), type(val_string), type(val_float), type(val_boolean), type(val_null))"
   ]
  },
  {
   "cell_type": "markdown",
   "id": "6c05cc8f",
   "metadata": {},
   "source": [
    "<a id=\"lists\"></a>\n",
    "#### Lists\n",
    "\n",
    "The list is a type of basic sequence. Lists can be used to store a collection of values. A list can contain values of any type is possible but it is not common to have a list with a combination of data types."
   ]
  },
  {
   "cell_type": "code",
   "execution_count": 61,
   "id": "a4b85d39",
   "metadata": {
    "scrolled": true
   },
   "outputs": [
    {
     "name": "stdout",
     "output_type": "stream",
     "text": [
      "['Canada', 'Nigeria', 'USA', 'Spain', 'UK', 'China']\n",
      "['Canada', 'Nigeria']\n",
      "['UK']\n",
      "['Spain', 'UK', 'China']\n",
      "['Canada', 'Nigeria', 'USA', 'Spain']\n",
      "['Canada', 'Nigeria', 'USA', 'Spain', 'UK', 'China']\n",
      "['China', 'UK', 'Spain', 'USA', 'Nigeria', 'Canada']\n",
      "['China', 'Spain', 'Nigeria']\n",
      "['Canada', 'USA', 'UK']\n"
     ]
    }
   ],
   "source": [
    "contries = [\"Canada\", \"Nigeria\", \"USA\", \"Spain\", \"UK\", \"China\"]\n",
    "\n",
    "# List slicing\n",
    "print(contries[::])    # ['Canada', 'Nigeria', 'USA', 'Spain', 'UK', 'China']\n",
    "print(contries[0:2])   # ['Canada', 'Nigeria']\n",
    "print(contries[-2:-1]) # ['UK']\n",
    "print(contries[3:])    # ['Spain', 'UK', 'China']\n",
    "print(contries[:4])    # ['Canada', 'Nigeria', 'USA', 'Spain']\n",
    "print(contries[:])     # ['Canada', 'Nigeria', 'USA', 'Spain', 'UK', 'China']\n",
    "print(contries[::-1])  # ['China', 'UK', 'Spain', 'USA', 'Nigeria', 'Canada']\n",
    "print(contries[::-2])  # ['China', 'Spain', 'Nigeria']\n",
    "print(contries[::2])   # ['Canada', 'USA', 'UK']\n"
   ]
  },
  {
   "cell_type": "code",
   "execution_count": 62,
   "id": "0f20f2e8",
   "metadata": {
    "scrolled": true
   },
   "outputs": [
    {
     "name": "stdout",
     "output_type": "stream",
     "text": [
      "['Canada', 'Nigeria', 'USA', 'Spain', 'UK', 'China', 'Germany']\n",
      "['Canada', 'Nigeria', 'USA', 'Spain', 'UK', 'China', 'Germany', 'Japan', 'Mexico']\n",
      "['France', 'Italy', 'USA', 'Spain', 'UK', 'China', 'Germany', 'Japan', 'Mexico']\n",
      "['France', 'USA', 'Spain', 'UK', 'China', 'Germany', 'Japan', 'Mexico']\n"
     ]
    }
   ],
   "source": [
    "# Add values to a list\n",
    "contries.append(\"Germany\")\n",
    "print(contries) # ['Canada', 'Nigeria', 'USA', 'Spain', 'UK', 'China', 'Germany']\n",
    "contries = contries + [\"Japan\", \"Mexico\"]\n",
    "print(contries) # ['Canada', 'Nigeria', 'USA', 'Spain', 'UK', 'China', 'Germany', 'Japan', 'Mexico']\n",
    "\n",
    "# Change values from a list\n",
    "contries[0:2] = [\"France\", \"Italy\"]\n",
    "print(contries) # ['France', 'Italy', 'USA', 'Spain', 'UK', 'China', 'Germany', 'Japan', 'Mexico']\n",
    "\n",
    "# Delete values from a list\n",
    "contries.remove(\"Italy\")\n",
    "print(contries) # ['France', 'USA', 'Spain', 'UK', 'China', 'Germany', 'Japan', 'Mexico']"
   ]
  },
  {
   "cell_type": "markdown",
   "id": "9146e0a9",
   "metadata": {},
   "source": [
    "<a id=\"tuples\"></a>\n",
    "#### Tuples\n",
    "The tuples are very similar to lists. In fact, you could say that they are immutable lists, which means that once a tuple is created you cannot delete or change the values of the elements stored in it. You also can't add new values."
   ]
  },
  {
   "cell_type": "code",
   "execution_count": 63,
   "id": "e8669e07",
   "metadata": {
    "scrolled": true
   },
   "outputs": [
    {
     "name": "stdout",
     "output_type": "stream",
     "text": [
      "<class 'tuple'>\n",
      "<class 'list'>\n"
     ]
    }
   ],
   "source": [
    "numbers_tuple = 1,2,3,4,5   #you can define a tuple with and without parentheses '()'\n",
    "numbers_list = [1,2,3,4,5]   #as mentioned earlier you can define lists using square brackets '[]'\n",
    "print(type(numbers_tuple))\n",
    "print(type(numbers_list))"
   ]
  },
  {
   "cell_type": "markdown",
   "id": "a1f81ed1",
   "metadata": {},
   "source": [
    "<a id=\"sets\"></a>\n",
    "#### Sets\n",
    "Lists and tuples are standard Python data types that store values in a sequence. Sets are another standard Python data type that also store values. The major difference is that sets, unlike lists or tuples, cannot have multiple occurrences of the same element and store unordered values."
   ]
  },
  {
   "cell_type": "code",
   "execution_count": 76,
   "id": "463a3854",
   "metadata": {
    "scrolled": true
   },
   "outputs": [
    {
     "name": "stdout",
     "output_type": "stream",
     "text": [
      "<class 'set'>\n",
      "{'Brazil', 'Argentina', 'Costa Rica', 'Panama', 'Uruguay'}\n"
     ]
    }
   ],
   "source": [
    "set_contries = {'Brazil', 'Uruguay', 'Argentina', 'Costa Rica', 'Panama'} # notice Set definition is with curly brackets\n",
    "print(type(set_contries))\n",
    "print(set_contries)"
   ]
  },
  {
   "cell_type": "code",
   "execution_count": 77,
   "id": "a311ec87",
   "metadata": {},
   "outputs": [
    {
     "name": "stdout",
     "output_type": "stream",
     "text": [
      "{'Brazil', 'Costa Rica', 'Panama', 'Uruguay', 'Colombia'}\n"
     ]
    }
   ],
   "source": [
    "# add new value\n",
    "set_contries.add('Colombia')\n",
    "\n",
    "#remove value\n",
    "set_contries.remove('Argentina')\n",
    "print(set_contries)"
   ]
  },
  {
   "cell_type": "code",
   "execution_count": 68,
   "id": "ac3a9054",
   "metadata": {},
   "outputs": [
    {
     "name": "stdout",
     "output_type": "stream",
     "text": [
      "{1, 2, 3, 4, 5, 6, 7}\n"
     ]
    }
   ],
   "source": [
    "# Union of sets\n",
    "set_1 = {1, 2, 3, 4, 5}\n",
    "set_2 = {3, 4, 5, 6, 7}\n",
    "print (set_1 | set_2)"
   ]
  },
  {
   "cell_type": "code",
   "execution_count": 69,
   "id": "20bb1976",
   "metadata": {},
   "outputs": [
    {
     "name": "stdout",
     "output_type": "stream",
     "text": [
      "{3, 4, 5}\n"
     ]
    }
   ],
   "source": [
    "# Intersction of sets\n",
    "set_1 = {1, 2, 3, 4, 5}\n",
    "set_2 = {3, 4, 5, 6, 7}\n",
    "print (set_1 & set_2)"
   ]
  },
  {
   "cell_type": "code",
   "execution_count": 70,
   "id": "1cc1d473",
   "metadata": {},
   "outputs": [
    {
     "name": "stdout",
     "output_type": "stream",
     "text": [
      "{1, 2}\n",
      "{6, 7}\n"
     ]
    }
   ],
   "source": [
    "# Differences of sets\n",
    "set_1 = {1, 2, 3, 4, 5}\n",
    "set_2 = {3, 4, 5, 6, 7}\n",
    "print (set_1 - set_2)\n",
    "print (set_2 - set_1)"
   ]
  },
  {
   "cell_type": "code",
   "execution_count": 74,
   "id": "49ace1a1",
   "metadata": {},
   "outputs": [
    {
     "data": {
      "text/plain": [
       "True"
      ]
     },
     "execution_count": 74,
     "metadata": {},
     "output_type": "execute_result"
    }
   ],
   "source": [
    "set_1 = {1, 2, 3, 4, 5}\n",
    "set_2 = {1, 2, 3}\n",
    "set_1 >= set_2"
   ]
  },
  {
   "cell_type": "code",
   "execution_count": 78,
   "id": "a7b6a92b",
   "metadata": {},
   "outputs": [
    {
     "data": {
      "text/plain": [
       "True"
      ]
     },
     "execution_count": 78,
     "metadata": {},
     "output_type": "execute_result"
    }
   ],
   "source": [
    "# check if value exists\n",
    "'Costa Rica' in set_contries"
   ]
  },
  {
   "cell_type": "code",
   "execution_count": 79,
   "id": "740179ee",
   "metadata": {},
   "outputs": [
    {
     "data": {
      "text/plain": [
       "True"
      ]
     },
     "execution_count": 79,
     "metadata": {},
     "output_type": "execute_result"
    }
   ],
   "source": [
    "# check if subset exists\n",
    "set_1 = {1, 2, 3, 4, 5}\n",
    "set_2 = {1, 2, 3}\n",
    "set_2 <= set_1"
   ]
  },
  {
   "cell_type": "markdown",
   "id": "d066f2db",
   "metadata": {},
   "source": [
    "<a id=\"dictionaries\"></a>\n",
    "#### Dictionaries\n",
    "Dictionaries are similar to lists, but dictionaries store key-value pairs instead. They are useful for indexing values with unique keys. In Python, you can create a key and a value are separated by a colon."
   ]
  },
  {
   "cell_type": "code",
   "execution_count": 66,
   "id": "95921290",
   "metadata": {},
   "outputs": [
    {
     "name": "stdout",
     "output_type": "stream",
     "text": [
      "26.337\n"
     ]
    }
   ],
   "source": [
    "dic_contries_density = {\n",
    "    \"Monaco\": 26.337,\n",
    "    \"Maldives\": 1.802,\n",
    "    \"Singapore\" : 8.358\n",
    "    }\n",
    "\n",
    "print(dic_contries_density[\"Monaco\"]) # 26.337"
   ]
  },
  {
   "cell_type": "code",
   "execution_count": 67,
   "id": "95b47672",
   "metadata": {},
   "outputs": [
    {
     "name": "stdout",
     "output_type": "stream",
     "text": [
      "{'Monaco': 26.337, 'Maldives': 1.802, 'Singapore': 8.358, 'Malta': 1.38}\n",
      "{'Monaco': 27.001, 'Maldives': 1.802, 'Singapore': 8.358, 'Malta': 1.38}\n",
      "{'Monaco': 27.001, 'Maldives': 1.802, 'Malta': 1.38}\n"
     ]
    }
   ],
   "source": [
    "# add new value\n",
    "dic_contries_density[\"Malta\"] = 1.380\n",
    "print(dic_contries_density) # {'Monaco': 26.337, 'Maldives': 1.802, 'Singapore': 8.358, 'Malta': 1.38}\n",
    "\n",
    "#update value\n",
    "dic_contries_density[\"Monaco\"] = 27.001\n",
    "print(dic_contries_density) # {'Monaco': 27.001, 'Maldives': 1.802, 'Singapore': 8.358, 'Malta': 1.38}\n",
    "\n",
    "#delete value\n",
    "del(dic_contries_density[\"Singapore\"])\n",
    "print(dic_contries_density) # {'Monaco': 27.001, 'Maldives': 1.802, 'Malta': 1.38}"
   ]
  }
 ],
 "metadata": {
  "kernelspec": {
   "display_name": "Python 3",
   "language": "python",
   "name": "python3"
  },
  "language_info": {
   "codemirror_mode": {
    "name": "ipython",
    "version": 3
   },
   "file_extension": ".py",
   "mimetype": "text/x-python",
   "name": "python",
   "nbconvert_exporter": "python",
   "pygments_lexer": "ipython3",
   "version": "3.8.8"
  }
 },
 "nbformat": 4,
 "nbformat_minor": 5
}
