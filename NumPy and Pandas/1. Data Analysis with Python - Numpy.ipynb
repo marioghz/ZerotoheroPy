{
 "cells": [
  {
   "cell_type": "markdown",
   "id": "26d745f0",
   "metadata": {},
   "source": [
    "# From Zero to Hero - Data Analysis with Python - NumPy"
   ]
  },
  {
   "cell_type": "markdown",
   "id": "4154285d",
   "metadata": {},
   "source": [
    "The intention of this document is to review the basic and most used sintax in a data manipulation and analysis environment in Python, the proposal pretends to contemplate from the most basic of what to the most complex concepts, this publication also seeks to encourage participation by any developer to add value to this knowledge base.\n",
    "\n",
    "In this section, it is proposed to review basic concepts about Python **(NumPy module)** syntax for data processing.\n",
    "\n",
    "### Content:\n",
    "* [Introduction](#intro)\n",
    "* [Basic creations](#basics)\n",
    "    * [Ndarray composition](#composition)\n",
    "    * [Arithmetic operations](#arithmetic)\n",
    "    * [Indexing](#indexing)\n",
    "    * [Axes/dimensions transposition](#transposition)\n",
    "    * [Axis](#axis)\n",
    "* [Ndarray Operations](#operation)\n",
    "    * [Unitary Functions](#u_func)\n",
    "    * [Binary Functions](#b_func)\n",
    "    * [Ndarrays based on a condition (np.where)](#np_where)\n",
    "    * [Mathematical and statistical functions](#math)\n",
    "    * [Sorting ndarrays](#sort)\n",
    "    * [Grouping functions](#group)\n",
    "    \n",
    "    \n",
    "    \n",
    "\n"
   ]
  },
  {
   "cell_type": "markdown",
   "id": "1a0408e1",
   "metadata": {},
   "source": [
    "<a id=\"intro\"></a>\n",
    "### Introduction\n",
    "\n",
    "In Python, we have lists that serve the purpose of arrays, but they are slow to process.\n",
    "NumPy aims to provide an array object that is up to 50x faster than traditional Python lists.\n",
    "The array object in NumPy is called ndarray, it provides a lot of supporting functions that make working with ndarray very easy. Arrays are very frequently used in data science, where speed and resources are very important.\n",
    "\n",
    "**Basic features of ndarray**\n",
    "<ul>\n",
    "<li>A ndarray can contain elements of <b>ANY TYPE</b></li>\n",
    "<li>All elements of a ndarray must have <b>THE SAME TYPE.</b></li>\n",
    "<li>The size of a ndarray (number of elements) is defined at creation time and cannot be changed.</li>\n",
    "<li>But the organization of these elements between different dimensions can be modified</li>\n",
    "<li>Basic usage of any NumPy element</li>\n",
    "</ul>    \n",
    "    \n",
    "Remember that NumPy is not a Python core module so it will ALWAYS have to be imported completely or component by component."
   ]
  },
  {
   "cell_type": "code",
   "execution_count": 93,
   "id": "d9be2669",
   "metadata": {},
   "outputs": [],
   "source": [
    "import numpy as np"
   ]
  },
  {
   "cell_type": "markdown",
   "id": "7e2b3351",
   "metadata": {},
   "source": [
    "<a id=\"basics\"></a>\n",
    "### Basic creation of ndarrays"
   ]
  },
  {
   "cell_type": "code",
   "execution_count": 94,
   "id": "4fc8cfba",
   "metadata": {},
   "outputs": [
    {
     "data": {
      "text/plain": [
       "array([5, 6, 7, 8, 9])"
      ]
     },
     "execution_count": 94,
     "metadata": {},
     "output_type": "execute_result"
    }
   ],
   "source": [
    "v_array_1 = np.arange(5, 10) \n",
    "v_array_1"
   ]
  },
  {
   "cell_type": "code",
   "execution_count": 95,
   "id": "ab0dc67f",
   "metadata": {},
   "outputs": [
    {
     "data": {
      "text/plain": [
       "array([1, 2, 3, 4, 5])"
      ]
     },
     "execution_count": 95,
     "metadata": {},
     "output_type": "execute_result"
    }
   ],
   "source": [
    "array_uni = np.array([1, 2, 3, 4, 5])                  # Unidimensional\n",
    "array_uni"
   ]
  },
  {
   "cell_type": "code",
   "execution_count": 96,
   "id": "5b5ac894",
   "metadata": {},
   "outputs": [
    {
     "data": {
      "text/plain": [
       "array([[1, 2, 3, 4],\n",
       "       [5, 6, 7, 8]])"
      ]
     },
     "execution_count": 96,
     "metadata": {},
     "output_type": "execute_result"
    }
   ],
   "source": [
    "array_multi = np.array([[1, 2, 3, 4], [5, 6, 7, 8]])   # Multidimentional\n",
    "array_multi"
   ]
  },
  {
   "cell_type": "markdown",
   "id": "e4a76b25",
   "metadata": {},
   "source": [
    "<a id=\"composition\"></a>\n",
    "#### Ndarray composition\n",
    "* **dtype:** Type of the ndarray content.\n",
    "* **ndim:** Number of dimensions / axes of the ndarray.\n",
    "* **shape:** Structure / shape of the ndarray, that is, number of elements in each of the axes / dimensions.\n",
    "* **size:** Total number of elements in the ndarray."
   ]
  },
  {
   "cell_type": "code",
   "execution_count": 97,
   "id": "d90e3890",
   "metadata": {},
   "outputs": [],
   "source": [
    "v_array = np.array([[1, 2, 3, 4], [5, 6, 7, 8], [9, 10, 11, 12]])"
   ]
  },
  {
   "cell_type": "code",
   "execution_count": 98,
   "id": "edbb10e7",
   "metadata": {},
   "outputs": [
    {
     "data": {
      "text/plain": [
       "dtype('int32')"
      ]
     },
     "execution_count": 98,
     "metadata": {},
     "output_type": "execute_result"
    }
   ],
   "source": [
    "v_array.dtype  # data type - unique -"
   ]
  },
  {
   "cell_type": "code",
   "execution_count": 99,
   "id": "080046dc",
   "metadata": {},
   "outputs": [
    {
     "data": {
      "text/plain": [
       "2"
      ]
     },
     "execution_count": 99,
     "metadata": {},
     "output_type": "execute_result"
    }
   ],
   "source": [
    "v_array.ndim  # number of dimensions"
   ]
  },
  {
   "cell_type": "code",
   "execution_count": 100,
   "id": "19b68bdf",
   "metadata": {},
   "outputs": [
    {
     "data": {
      "text/plain": [
       "(3, 4)"
      ]
     },
     "execution_count": 100,
     "metadata": {},
     "output_type": "execute_result"
    }
   ],
   "source": [
    "v_array.shape # shape and dimensions"
   ]
  },
  {
   "cell_type": "markdown",
   "id": "52b3299a",
   "metadata": {},
   "source": [
    "<a id=\"arithmetic\"></a>\n",
    "#### Arithmetic operations"
   ]
  },
  {
   "cell_type": "code",
   "execution_count": 101,
   "id": "2033e47a",
   "metadata": {},
   "outputs": [],
   "source": [
    "v_array = np.array([10, 20, 30, 40, 50, 60], dtype=np.float64)"
   ]
  },
  {
   "cell_type": "code",
   "execution_count": 102,
   "id": "ba94bd4e",
   "metadata": {},
   "outputs": [
    {
     "data": {
      "text/plain": [
       "array([ 20.,  40.,  60.,  80., 100., 120.])"
      ]
     },
     "execution_count": 102,
     "metadata": {},
     "output_type": "execute_result"
    }
   ],
   "source": [
    "v_array + v_array  # sum of arrays (element by element)"
   ]
  },
  {
   "cell_type": "code",
   "execution_count": 103,
   "id": "8b65fde4",
   "metadata": {},
   "outputs": [
    {
     "data": {
      "text/plain": [
       "array([0., 0., 0., 0., 0., 0.])"
      ]
     },
     "execution_count": 103,
     "metadata": {},
     "output_type": "execute_result"
    }
   ],
   "source": [
    "v_array - v_array  # subtraction of arrays (element by element)"
   ]
  },
  {
   "cell_type": "code",
   "execution_count": 104,
   "id": "489bdedd",
   "metadata": {},
   "outputs": [
    {
     "data": {
      "text/plain": [
       "array([ 100.,  400.,  900., 1600., 2500., 3600.])"
      ]
     },
     "execution_count": 104,
     "metadata": {},
     "output_type": "execute_result"
    }
   ],
   "source": [
    "v_array * v_array  # array multiplication (element by element)"
   ]
  },
  {
   "cell_type": "markdown",
   "id": "bb9137a4",
   "metadata": {},
   "source": [
    "<a id=\"indexing\"></a>\n",
    "#### Indexing"
   ]
  },
  {
   "cell_type": "code",
   "execution_count": 105,
   "id": "fa340d6e",
   "metadata": {},
   "outputs": [
    {
     "data": {
      "text/plain": [
       "array([[[ 1,  2,  3],\n",
       "        [ 5,  6,  7]],\n",
       "\n",
       "       [[10, 11, 12],\n",
       "        [14, 15, 16]]])"
      ]
     },
     "execution_count": 105,
     "metadata": {},
     "output_type": "execute_result"
    }
   ],
   "source": [
    "v_array = np.array([[[1, 2, 3], [5, 6, 7]], [[10, 11, 12], [14, 15, 16]]])\n",
    "v_array"
   ]
  },
  {
   "cell_type": "code",
   "execution_count": 106,
   "id": "ebe55aba",
   "metadata": {},
   "outputs": [
    {
     "data": {
      "text/plain": [
       "array([[10, 11, 12],\n",
       "       [14, 15, 16]])"
      ]
     },
     "execution_count": 106,
     "metadata": {},
     "output_type": "execute_result"
    }
   ],
   "source": [
    "v_array[1]  # Recursive indexing - first level"
   ]
  },
  {
   "cell_type": "code",
   "execution_count": 107,
   "id": "f6e58a3f",
   "metadata": {},
   "outputs": [
    {
     "data": {
      "text/plain": [
       "array([10, 11, 12])"
      ]
     },
     "execution_count": 107,
     "metadata": {},
     "output_type": "execute_result"
    }
   ],
   "source": [
    "v_array[1][0]  # Recursive indexing - second level"
   ]
  },
  {
   "cell_type": "code",
   "execution_count": 108,
   "id": "4d40b1e4",
   "metadata": {},
   "outputs": [
    {
     "data": {
      "text/plain": [
       "12"
      ]
     },
     "execution_count": 108,
     "metadata": {},
     "output_type": "execute_result"
    }
   ],
   "source": [
    "v_array[1][0][2]  # Recursive indexing - third level"
   ]
  },
  {
   "cell_type": "code",
   "execution_count": 109,
   "id": "36198cf9",
   "metadata": {},
   "outputs": [
    {
     "data": {
      "text/plain": [
       "array([[-0.93373938,  0.34571805, -0.10253557,  0.65452356],\n",
       "       [-0.46643791, -1.36174858,  0.09067704, -0.0126964 ],\n",
       "       [-0.58842914,  0.37864838, -1.60463872,  0.72362846],\n",
       "       [-0.62003125, -0.9852809 ,  1.49544358, -0.59755879]])"
      ]
     },
     "execution_count": 109,
     "metadata": {},
     "output_type": "execute_result"
    }
   ],
   "source": [
    "v_array_rnd = np.random.randn(4, 4)\n",
    "v_array_rnd"
   ]
  },
  {
   "cell_type": "code",
   "execution_count": 110,
   "id": "839af8aa",
   "metadata": {},
   "outputs": [
    {
     "data": {
      "text/plain": [
       "array([-0.93373938, -0.10253557, -0.46643791, -1.36174858, -0.0126964 ,\n",
       "       -0.58842914, -1.60463872, -0.62003125, -0.9852809 , -0.59755879])"
      ]
     },
     "execution_count": 110,
     "metadata": {},
     "output_type": "execute_result"
    }
   ],
   "source": [
    "v_array_rnd[v_array_rnd < 0]  # Boolean indexing over values"
   ]
  },
  {
   "cell_type": "markdown",
   "id": "5d0d4a03",
   "metadata": {},
   "source": [
    "<a id=\"transposition\"></a>\n",
    "#### Axes/dimensions transposition"
   ]
  },
  {
   "cell_type": "code",
   "execution_count": 111,
   "id": "8b9bfdd5",
   "metadata": {},
   "outputs": [
    {
     "data": {
      "text/plain": [
       "array([ 0,  1,  2,  3,  4,  5,  6,  7,  8,  9, 10, 11, 12, 13, 14, 15, 16,\n",
       "       17, 18, 19])"
      ]
     },
     "execution_count": 111,
     "metadata": {},
     "output_type": "execute_result"
    }
   ],
   "source": [
    "v_array = np.arange(20)\n",
    "v_array"
   ]
  },
  {
   "cell_type": "code",
   "execution_count": 112,
   "id": "863834f0",
   "metadata": {},
   "outputs": [
    {
     "data": {
      "text/plain": [
       "array([[ 0,  1,  2,  3,  4],\n",
       "       [ 5,  6,  7,  8,  9],\n",
       "       [10, 11, 12, 13, 14],\n",
       "       [15, 16, 17, 18, 19]])"
      ]
     },
     "execution_count": 112,
     "metadata": {},
     "output_type": "execute_result"
    }
   ],
   "source": [
    "v_array_resh = v_array.reshape(4, 5) # Axes/dimensions modification\n",
    "v_array_resh"
   ]
  },
  {
   "cell_type": "code",
   "execution_count": 113,
   "id": "e548facc",
   "metadata": {
    "scrolled": true
   },
   "outputs": [
    {
     "data": {
      "text/plain": [
       "array([[ 0,  5, 10, 15],\n",
       "       [ 1,  6, 11, 16],\n",
       "       [ 2,  7, 12, 17],\n",
       "       [ 3,  8, 13, 18],\n",
       "       [ 4,  9, 14, 19]])"
      ]
     },
     "execution_count": 113,
     "metadata": {},
     "output_type": "execute_result"
    }
   ],
   "source": [
    "v_array_resh.T  # Axes/dimensions transposition"
   ]
  },
  {
   "cell_type": "markdown",
   "id": "2d82cc8b",
   "metadata": {},
   "source": [
    "<a id=\"axis\"></a>\n",
    "#### Axis"
   ]
  },
  {
   "cell_type": "code",
   "execution_count": 114,
   "id": "3d4c22b7",
   "metadata": {},
   "outputs": [
    {
     "data": {
      "text/plain": [
       "array([10, 35, 60, 85])"
      ]
     },
     "execution_count": 114,
     "metadata": {},
     "output_type": "execute_result"
    }
   ],
   "source": [
    "v_array_resh.sum(axis=1)  # Apply the funtion for all the lines"
   ]
  },
  {
   "cell_type": "code",
   "execution_count": 115,
   "id": "877e0748",
   "metadata": {},
   "outputs": [
    {
     "data": {
      "text/plain": [
       "array([30, 34, 38, 42, 46])"
      ]
     },
     "execution_count": 115,
     "metadata": {},
     "output_type": "execute_result"
    }
   ],
   "source": [
    "v_array_resh.sum(axis=0)  # Apply the funtion for all the columns"
   ]
  },
  {
   "cell_type": "markdown",
   "id": "568cf513",
   "metadata": {},
   "source": [
    "<a id=\"operation\"></a>\n",
    "### Ndarray operations\n",
    "NumPy offers so-called \"universal functions\" (ufuncs) that allow element-by-element operations of an array. Depending on the number of parameters, there are two types of universal functions."
   ]
  },
  {
   "cell_type": "markdown",
   "id": "755859de",
   "metadata": {},
   "source": [
    "<a id=\"u_func\"></a>\n",
    "#### Unary functions\n",
    "Functions that require a single ndarray as a parameter.\n",
    "\n",
    "* **abs, fabs:** Absolute value.\n",
    "* **sqrt:** Square root (equivalent to array \\ * \\ * 0.5).\n",
    "* **square:** Power squared (equivalent to array ** 2).\n",
    "* **exp:** Power of e.\n",
    "* **log, log10, log2, log1p:** Logarithms in different bases.\n",
    "* **sign:** Sign (+ = 1 / - = -1 / 0 = 0).\n",
    "* **ceil:** Ceiling.\n",
    "* **floor:** Floor.\n",
    "* **rint:** Round to the nearest integer.\n",
    "* **modf:** Returns two arrays, one with the fractional part and the other with the integer part.\n",
    "* **isnan:** Returns a Boolean array indicating whether the value is NaN or not.\n",
    "* **isfinite, isinf:** Returns a Boolean array indicating if the value is finite or infinite.\n",
    "* **cos, cosh, sin, sinh, tan, tanh:** Trigonometric functions.\n",
    "* **arccos, arccosh, arcsin, arcsinh, arctan, arctanh:** Inverse trigonometric functions.\n",
    "* **logical_not:** Boolean inverse of all array values (equivalent to ~ (array))."
   ]
  },
  {
   "cell_type": "code",
   "execution_count": 116,
   "id": "ac467f1b",
   "metadata": {},
   "outputs": [
    {
     "data": {
      "text/plain": [
       "array([1, 2, 3, 4, 5])"
      ]
     },
     "execution_count": 116,
     "metadata": {},
     "output_type": "execute_result"
    }
   ],
   "source": [
    "v_array = np.array([1,2,3,4,5])\n",
    "np.abs(v_array)"
   ]
  },
  {
   "cell_type": "code",
   "execution_count": 117,
   "id": "9181c45a",
   "metadata": {},
   "outputs": [
    {
     "data": {
      "text/plain": [
       "array([ 1.54308063,  3.76219569, 10.067662  , 27.30823284, 74.20994852])"
      ]
     },
     "execution_count": 117,
     "metadata": {},
     "output_type": "execute_result"
    }
   ],
   "source": [
    "np.cosh(v_array)"
   ]
  },
  {
   "cell_type": "code",
   "execution_count": 118,
   "id": "6b24ad8d",
   "metadata": {},
   "outputs": [
    {
     "data": {
      "text/plain": [
       "array([1, 1, 1, 1, 1])"
      ]
     },
     "execution_count": 118,
     "metadata": {},
     "output_type": "execute_result"
    }
   ],
   "source": [
    "np.sign(v_array)"
   ]
  },
  {
   "cell_type": "markdown",
   "id": "fa163763",
   "metadata": {},
   "source": [
    "<a id=\"b_func\"></a>\n",
    "#### Binary functions\n",
    "Functions that receive two arrays as parameters.\n",
    "\n",
    "* **add:** Addition of the elements of the two arrays (equivalent to array1 + array2).\n",
    "* **subtract:** Subtract the elements of the two arrays (equivalent to array1 - array2).\n",
    "* **multiply:** Multiply the elements of the two arrays (equivalent to array1 \\ * array2).\n",
    "* **divide, floor_divide:** Divide the elements of the two arrays (equivalent to array1 / (or //) array2).\n",
    "* **power:** Raises the elements of the first array to the powers of the second (equivalent to array1 ** array2).\n",
    "* **maximum, fmax:** Calculates the maximum of the two arrays (element by element). fmax ignores NaN.\n",
    "* **minimum, fmin:** Calculates the minimum of the two arrays (element by element). fmax ignores NaN.\n",
    "* **mod:** Calculates the remainder of the division of the two arrays (equivalent to array1% array2).\n",
    "* **greater, greater_equal, less, less_equal, equal, not_equal:** Comparisons on the elements of both ndarrays (element by element).\n",
    "* **logical_and, logical_or, logical_xor:** Boolean operations on the elements of both ndarrays (element by element)."
   ]
  },
  {
   "cell_type": "code",
   "execution_count": 119,
   "id": "3bdc743d",
   "metadata": {},
   "outputs": [
    {
     "data": {
      "text/plain": [
       "array([[-0.35565431,  2.01523612,  1.19744644],\n",
       "       [-1.08602917, -2.71230386,  0.20383996],\n",
       "       [-0.89435243, -0.00877193, -1.1563722 ]])"
      ]
     },
     "execution_count": 119,
     "metadata": {},
     "output_type": "execute_result"
    }
   ],
   "source": [
    "v_array_1 = np.random.randn(3, 3)\n",
    "v_array_1"
   ]
  },
  {
   "cell_type": "code",
   "execution_count": 120,
   "id": "5f743534",
   "metadata": {},
   "outputs": [
    {
     "data": {
      "text/plain": [
       "array([[ 0.31574901,  1.07836019,  1.12311761],\n",
       "       [ 1.28384525,  0.86019888, -0.39492825],\n",
       "       [ 1.21877452, -1.06649056,  0.3741595 ]])"
      ]
     },
     "execution_count": 120,
     "metadata": {},
     "output_type": "execute_result"
    }
   ],
   "source": [
    "v_array_2 = np.random.randn(3, 3)\n",
    "v_array_2"
   ]
  },
  {
   "cell_type": "code",
   "execution_count": 121,
   "id": "173f0a69",
   "metadata": {},
   "outputs": [
    {
     "data": {
      "text/plain": [
       "array([[-0.35565431,  1.07836019,  1.12311761],\n",
       "       [-1.08602917, -2.71230386, -0.39492825],\n",
       "       [-0.89435243, -1.06649056, -1.1563722 ]])"
      ]
     },
     "execution_count": 121,
     "metadata": {},
     "output_type": "execute_result"
    }
   ],
   "source": [
    "np.minimum(v_array_1, v_array_2)"
   ]
  },
  {
   "cell_type": "code",
   "execution_count": 122,
   "id": "e16fa1d4",
   "metadata": {},
   "outputs": [
    {
     "data": {
      "text/plain": [
       "array([[-1.12638295,  1.86879685,  1.06618081],\n",
       "       [-0.84591906, -3.15311253, -0.51614429],\n",
       "       [-0.73381287,  0.00822504, -3.09058626]])"
      ]
     },
     "execution_count": 122,
     "metadata": {},
     "output_type": "execute_result"
    }
   ],
   "source": [
    "np.divide(v_array_1, v_array_2)"
   ]
  },
  {
   "cell_type": "code",
   "execution_count": 123,
   "id": "facae1a8",
   "metadata": {},
   "outputs": [
    {
     "data": {
      "text/plain": [
       "array([[-2.,  1.,  1.],\n",
       "       [-1., -4., -1.],\n",
       "       [-1.,  0., -4.]])"
      ]
     },
     "execution_count": 123,
     "metadata": {},
     "output_type": "execute_result"
    }
   ],
   "source": [
    "np.floor_divide(v_array_1, v_array_2)"
   ]
  },
  {
   "cell_type": "markdown",
   "id": "734eb59a",
   "metadata": {},
   "source": [
    "<a id=\"np_where\"></a>\n",
    "#### Ndarrays based on a condition (np.where)\n",
    "Through the **np.where** function it is possible to generate an output array from two inputs, establishing a Boolean mask that indicates whether (element by element) we must output the element of the first ndarray (True) or the second (False)."
   ]
  },
  {
   "cell_type": "code",
   "execution_count": 124,
   "id": "c51c2597",
   "metadata": {},
   "outputs": [
    {
     "data": {
      "text/plain": [
       "array([[-0.35565431,  1.07836019,  1.12311761],\n",
       "       [-1.08602917, -2.71230386, -0.39492825],\n",
       "       [-0.89435243, -1.06649056, -1.1563722 ]])"
      ]
     },
     "execution_count": 124,
     "metadata": {},
     "output_type": "execute_result"
    }
   ],
   "source": [
    "np.where(v_array_1 < v_array_2, v_array_1, v_array_2)"
   ]
  },
  {
   "cell_type": "code",
   "execution_count": 125,
   "id": "5aba611c",
   "metadata": {},
   "outputs": [
    {
     "data": {
      "text/plain": [
       "array([[ 0.        ,  1.07836019,  1.12311761],\n",
       "       [ 0.        ,  0.        , -0.39492825],\n",
       "       [ 0.        , -1.06649056,  0.        ]])"
      ]
     },
     "execution_count": 125,
     "metadata": {},
     "output_type": "execute_result"
    }
   ],
   "source": [
    "np.where(v_array_1 < v_array_2, np.where(v_array_1 < 0, 0, v_array_1), v_array_2)"
   ]
  },
  {
   "cell_type": "markdown",
   "id": "16f8f926",
   "metadata": {},
   "source": [
    "<a id=\"math\"></a>\n",
    "#### Mathematical and statistical functions\n",
    "\n",
    "* **sum:** Sum of elements.\n",
    "* **mean:** Arithmetic mean of the elements.\n",
    "* **median:** Median of the elements.\n",
    "* **std:** Standard deviation of the elements.\n",
    "* **var:** Variance of the elements.\n",
    "* **min:** Minimum value of the elements.\n",
    "* **max:** Maximum value of the elements.\n",
    "* **argmin:** Index of the minimum value.\n",
    "* **argmax:** Index of the maximum value.\n",
    "* **cumsum:** Cumulative sum of the elements.\n",
    "* **complrod:** Cumulative product of the elements.\n",
    "\n",
    "All these functions could receive a second parameter called **axis**. If this parameter is not received, the functions will be applied to the global set of ndarray elements, but if it is included, it can take two values:\n",
    "\n",
    " * Value 0: It will apply the function by rows\n",
    " * Value 1: It will apply the function by columns"
   ]
  },
  {
   "cell_type": "code",
   "execution_count": 126,
   "id": "eb011c44",
   "metadata": {},
   "outputs": [
    {
     "data": {
      "text/plain": [
       "-2.7969613609321984"
      ]
     },
     "execution_count": 126,
     "metadata": {},
     "output_type": "execute_result"
    }
   ],
   "source": [
    "np.sum(v_array_1)"
   ]
  },
  {
   "cell_type": "code",
   "execution_count": 127,
   "id": "ff4a8d30",
   "metadata": {},
   "outputs": [
    {
     "data": {
      "text/plain": [
       "array([-2.3360359 , -0.70583966,  0.2449142 ])"
      ]
     },
     "execution_count": 127,
     "metadata": {},
     "output_type": "execute_result"
    }
   ],
   "source": [
    "np.sum(v_array_1, axis=0)"
   ]
  },
  {
   "cell_type": "code",
   "execution_count": 128,
   "id": "b90238fe",
   "metadata": {},
   "outputs": [
    {
     "data": {
      "text/plain": [
       "array([ 2.85702826, -3.59449306, -2.05949656])"
      ]
     },
     "execution_count": 128,
     "metadata": {},
     "output_type": "execute_result"
    }
   ],
   "source": [
    "np.sum(v_array_1, axis=1)"
   ]
  },
  {
   "cell_type": "markdown",
   "id": "04b8eb7c",
   "metadata": {},
   "source": [
    "<a id=\"sort\"></a>\n",
    "#### Sorting ndarrays"
   ]
  },
  {
   "cell_type": "code",
   "execution_count": 129,
   "id": "29bc6873",
   "metadata": {},
   "outputs": [
    {
     "data": {
      "text/plain": [
       "array([[ 0.60887207,  0.46840229, -1.48846128, -0.59804317],\n",
       "       [ 0.30192688, -1.01995864,  1.11447234,  0.37833779],\n",
       "       [-0.76578679, -0.63732591, -0.92591639,  0.81245276]])"
      ]
     },
     "execution_count": 129,
     "metadata": {},
     "output_type": "execute_result"
    }
   ],
   "source": [
    "v_array = np.random.randn(3, 4)\n",
    "v_array"
   ]
  },
  {
   "cell_type": "code",
   "execution_count": 130,
   "id": "e1e7a393",
   "metadata": {},
   "outputs": [
    {
     "data": {
      "text/plain": [
       "array([[-1.48846128, -0.59804317,  0.46840229,  0.60887207],\n",
       "       [-1.01995864,  0.30192688,  0.37833779,  1.11447234],\n",
       "       [-0.92591639, -0.76578679, -0.63732591,  0.81245276]])"
      ]
     },
     "execution_count": 130,
     "metadata": {},
     "output_type": "execute_result"
    }
   ],
   "source": [
    "np.sort(v_array) "
   ]
  },
  {
   "cell_type": "code",
   "execution_count": 131,
   "id": "e30fce86",
   "metadata": {},
   "outputs": [
    {
     "data": {
      "text/plain": [
       "array([[-0.76578679, -1.01995864, -1.48846128, -0.59804317],\n",
       "       [ 0.30192688, -0.63732591, -0.92591639,  0.37833779],\n",
       "       [ 0.60887207,  0.46840229,  1.11447234,  0.81245276]])"
      ]
     },
     "execution_count": 131,
     "metadata": {},
     "output_type": "execute_result"
    }
   ],
   "source": [
    "np.sort(v_array, axis=0)"
   ]
  },
  {
   "cell_type": "markdown",
   "id": "91e0cff5",
   "metadata": {},
   "source": [
    "<a id=\"group\"></a>\n",
    "#### Grouping functions\n",
    "NumPy allows to perform treatments on a ndarray assuming that the total of its elements form a set.\n",
    "\n",
    "* **unique:** Computes the unique set of items without duplicates.\n",
    "* **intersect1d:** Calculates the intersection of the elements of two arrays.\n",
    "* **union1d:** Calculates the union of the elements of two arays.\n",
    "* **in1d:** Calculates a Boolean array that indicates whether each element of the first array is contained in the second.\n",
    "* **setdiff1d:** Calculates the difference between both sets.\n",
    "* **setxor1d:** Calculates the symmetric difference between both sets."
   ]
  },
  {
   "cell_type": "code",
   "execution_count": 132,
   "id": "c06b2656",
   "metadata": {},
   "outputs": [
    {
     "data": {
      "text/plain": [
       "array([6, 0, 0, 0, 3, 2, 5, 6])"
      ]
     },
     "execution_count": 132,
     "metadata": {},
     "output_type": "execute_result"
    }
   ],
   "source": [
    "v_array_1 = np.array([6, 0, 0, 0, 3, 2, 5, 6])\n",
    "v_array_1"
   ]
  },
  {
   "cell_type": "code",
   "execution_count": 133,
   "id": "a7a5a9e6",
   "metadata": {},
   "outputs": [
    {
     "data": {
      "text/plain": [
       "array([7, 4, 3, 1, 2, 6, 5])"
      ]
     },
     "execution_count": 133,
     "metadata": {},
     "output_type": "execute_result"
    }
   ],
   "source": [
    "v_array_2 = np.array([7, 4, 3, 1, 2, 6, 5])\n",
    "v_array_2"
   ]
  },
  {
   "cell_type": "code",
   "execution_count": 134,
   "id": "6ca437aa",
   "metadata": {},
   "outputs": [
    {
     "data": {
      "text/plain": [
       "array([0, 2, 3, 5, 6])"
      ]
     },
     "execution_count": 134,
     "metadata": {},
     "output_type": "execute_result"
    }
   ],
   "source": [
    "np.unique(v_array_1)"
   ]
  },
  {
   "cell_type": "code",
   "execution_count": 135,
   "id": "22e8ac0d",
   "metadata": {},
   "outputs": [
    {
     "data": {
      "text/plain": [
       "array([0, 1, 2, 3, 4, 5, 6, 7])"
      ]
     },
     "execution_count": 135,
     "metadata": {},
     "output_type": "execute_result"
    }
   ],
   "source": [
    "np.union1d(v_array_1, v_array_2)"
   ]
  },
  {
   "cell_type": "code",
   "execution_count": 136,
   "id": "737edf81",
   "metadata": {},
   "outputs": [
    {
     "data": {
      "text/plain": [
       "array([ True, False, False, False,  True,  True,  True,  True])"
      ]
     },
     "execution_count": 136,
     "metadata": {},
     "output_type": "execute_result"
    }
   ],
   "source": [
    "np.in1d(v_array_1, v_array_2)"
   ]
  }
 ],
 "metadata": {
  "kernelspec": {
   "display_name": "Python 3",
   "language": "python",
   "name": "python3"
  },
  "language_info": {
   "codemirror_mode": {
    "name": "ipython",
    "version": 3
   },
   "file_extension": ".py",
   "mimetype": "text/x-python",
   "name": "python",
   "nbconvert_exporter": "python",
   "pygments_lexer": "ipython3",
   "version": "3.8.8"
  }
 },
 "nbformat": 4,
 "nbformat_minor": 5
}
